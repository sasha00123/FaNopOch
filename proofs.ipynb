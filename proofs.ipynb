{
 "cells": [
  {
   "cell_type": "code",
   "execution_count": 1,
   "metadata": {},
   "outputs": [],
   "source": [
    "import numpy as np\n",
    "from numba import njit"
   ]
  },
  {
   "cell_type": "markdown",
   "metadata": {},
   "source": [
    "Предположим, что мы действительно имеем 5 каналов (B02, B03, B04, B08, B11) и для каждого пикселя есть информация по каждому из данных значений.\n",
    "Далее пусть у нас есть несколько многоугольников, обозначающих поля (не умаляя общности, X и Y).\n",
    "Поскольку могут существовать некоторые локальные закономерности, нам стоит разбить их на меньшие поля (A, B и C для X; D, E для Y).\n",
    "\n",
    "Для случайно сгенерированных значений рассмотрим \"адекватность\" различных изменений."
   ]
  },
  {
   "cell_type": "code",
   "execution_count": 51,
   "metadata": {},
   "outputs": [],
   "source": [
    "class SubPolygon:\n",
    "    def __init__(self, size, last_values = None, last_mean = 0, last_std = 4, \n",
    "                         current_values = None, current_mean = 5, current_std = 4):\n",
    "        \n",
    "        if not(last_values or current_values):\n",
    "            self.last_values = np.random.normal(0, 4, (size, 5))\n",
    "            self.current_values = np.random.normal(5, 4, (size, 5))\n",
    "        else:\n",
    "            self.last_values = last_values\n",
    "            self.current_values = current_values\n",
    "        \n",
    "        self.change = self.current_values - self.last_values\n",
    "        self.size = size\n",
    "        \n",
    "        self.mean_vec = np.mean(self.change, axis = 0)\n",
    "        \n",
    "    def get_changes(self):\n",
    "        return (val for val in self.change)\n",
    "    \n",
    "    def mean(self):\n",
    "        return self.mean_vec"
   ]
  },
  {
   "cell_type": "code",
   "execution_count": 54,
   "metadata": {},
   "outputs": [],
   "source": [
    "class Polygon:\n",
    "    def __init__(self, sub_list):\n",
    "        self.list = sub_list\n",
    "        self.size = sum([elem.size for elem in sub_list])\n",
    "        self.mean_vec = np.sum([elem.size * elem.mean() for elem in sub_list]) / self.size\n",
    "        \n",
    "    def mean(self):\n",
    "        return self.mean_vec"
   ]
  },
  {
   "cell_type": "code",
   "execution_count": 52,
   "metadata": {},
   "outputs": [],
   "source": [
    "np.random.seed(42)\n",
    "\n",
    "sub_polygons = {'A', 'B', 'C', 'D', 'E'}\n",
    "polygons = {'X', 'Y'}\n",
    "match_dict = {'X': {'A', 'B', 'C'}, 'Y': {'D', 'E'}}\n",
    "\n",
    "lengths = {i:j for i,j in zip(sub_polygons, np.random.randint(1000, 10000, len(sub_polygons)))}\n",
    "for polygon in polygons:\n",
    "    lengths[polygon] = sum([lengths[child] for child in match_dict[polygon]])"
   ]
  },
  {
   "cell_type": "code",
   "execution_count": 53,
   "metadata": {},
   "outputs": [
    {
     "data": {
      "text/plain": [
       "{'E': 8270, 'B': 1860, 'C': 6390, 'D': 6191, 'A': 6734, 'Y': 14461, 'X': 14984}"
      ]
     },
     "execution_count": 53,
     "metadata": {},
     "output_type": "execute_result"
    }
   ],
   "source": [
    "lengths"
   ]
  },
  {
   "cell_type": "code",
   "execution_count": null,
   "metadata": {},
   "outputs": [],
   "source": []
  }
 ],
 "metadata": {
  "kernelspec": {
   "display_name": "Python 3",
   "language": "python",
   "name": "python3"
  },
  "language_info": {
   "codemirror_mode": {
    "name": "ipython",
    "version": 3
   },
   "file_extension": ".py",
   "mimetype": "text/x-python",
   "name": "python",
   "nbconvert_exporter": "python",
   "pygments_lexer": "ipython3",
   "version": "3.7.6"
  }
 },
 "nbformat": 4,
 "nbformat_minor": 4
}
